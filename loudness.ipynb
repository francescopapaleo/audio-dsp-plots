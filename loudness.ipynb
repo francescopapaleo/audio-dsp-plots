{
 "cells": [
  {
   "cell_type": "markdown",
   "metadata": {},
   "source": [
    "# Loudness according to: ITU-R BS.1770-2\n",
    "\n",
    "```\n",
    "Pre Filter >> RLB Filter >> Power (mean square) >> Gain >> Sum >> Display\n",
    "```\n",
    "\n",
    "\\begin{equation}\n",
    "\\text{loundness} = -0.691 + 10 \\log_{10} (\\text{power})\n",
    "\\end{equation}"
   ]
  },
  {
   "cell_type": "code",
   "execution_count": null,
   "metadata": {},
   "outputs": [],
   "source": [
    "import torch\n",
    "import torchaudio\n",
    "\n",
    "def pre_filter(audio, sample_rate):\n",
    "    # Apply pre-filtering as required by the EBU R128 standard\n",
    "    # This might involve specific filtering operations to mimic the human ear's response\n",
    "    pass\n",
    "\n",
    "def rlb_filter(audio, sample_rate):\n",
    "    # Apply the RLB (Revised Low Frequency) weighting filter\n",
    "    # This is part of the EBU R128 standard for loudness measurement\n",
    "    pass\n",
    "\n",
    "def power_mean_square(audio, frame_size, hop_size):\n",
    "    # Calculate the mean square power of the audio signal\n",
    "    # This involves squaring the signal and averaging it over specific frame sizes\n",
    "    pass\n",
    "\n",
    "def gain(audio):\n",
    "    # Apply necessary gain adjustments as per the loudness calculation requirements\n",
    "    pass\n",
    "\n",
    "def sum_loudness(audio):\n",
    "    # Sum the loudness across all frames to get the overall loudness measurement\n",
    "    pass\n",
    "\n",
    "# Load audio\n",
    "audio, sample_rate = torchaudio.load('test.wav')\n",
    "\n",
    "# Pre-filter\n",
    "audio = pre_filter(audio, sample_rate)\n",
    "\n",
    "# RLB filter\n",
    "audio = rlb_filter(audio, sample_rate)\n",
    "\n",
    "# Power mean square\n",
    "frame_size = int(sample_rate * 0.4)  # Example for 400ms window\n",
    "hop_size = int(sample_rate * 0.1)    # Example hop size\n",
    "audio = power_mean_square(audio, frame_size, hop_size)\n",
    "\n",
    "# Gain\n",
    "audio = gain(audio)\n",
    "\n",
    "# Sum\n",
    "loudness_metrics = sum_loudness(audio)\n",
    "\n",
    "print(loudness_metrics)\n"
   ]
  }
 ],
 "metadata": {
  "language_info": {
   "name": "python"
  }
 },
 "nbformat": 4,
 "nbformat_minor": 2
}
