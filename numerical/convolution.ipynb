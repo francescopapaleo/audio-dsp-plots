{
 "cells": [
  {
   "cell_type": "markdown",
   "metadata": {},
   "source": [
    "# Convolution\n",
    "\n",
    "\\begin{equation}\n",
    "y[n] = \\sum_{k=-\\infty}^{\\infty} x[k] \\cdot h[n-k]\n",
    "\\end{equation}"
   ]
  },
  {
   "cell_type": "code",
   "execution_count": null,
   "metadata": {},
   "outputs": [],
   "source": [
    "import numpy as np\n",
    "import matplotlib.pyplot as plt\n",
    "\n",
    "# Define two example signals\n",
    "x = np.array([1, 2, 3, 4, 5])\n",
    "h = np.array([0.5, 1, 0.5])\n",
    "\n",
    "# Ensure the length of the impulse response is less than or equal to the input signal\n",
    "if len(h) >= len(x):\n",
    "    raise ValueError(\"Length of impulse response must be less than the length of the input signal.\")\n",
    "\n",
    "# Create a custom x-axis array for the stem plots\n",
    "x_axis = np.linspace(0, len(x) - 1, len(x))\n",
    "\n",
    "# Perform 1D convolution\n",
    "y = np.convolve(x, h, mode='full')\n",
    "\n",
    "# Plotting the signals and the result\n",
    "plt.figure(figsize=(10, 4))\n",
    "\n",
    "plt.subplot(311)\n",
    "plt.stem(x_axis, x, label='Input Signal x[n]')\n",
    "plt.legend()\n",
    "\n",
    "plt.subplot(312)\n",
    "plt.stem(x_axis, h, label='Kernel h[n]')  # Use x as x-axis values for the kernel\n",
    "plt.legend()\n",
    "\n",
    "plt.subplot(313)\n",
    "plt.stem(x_axis, y, label='Convolution Result y[n]')\n",
    "plt.legend()\n",
    "\n",
    "plt.tight_layout()\n",
    "plt.show()"
   ]
  },
  {
   "cell_type": "code",
   "execution_count": null,
   "metadata": {},
   "outputs": [],
   "source": []
  }
 ],
 "metadata": {
  "kernelspec": {
   "display_name": "devenv",
   "language": "python",
   "name": "python3"
  },
  "language_info": {
   "codemirror_mode": {
    "name": "ipython",
    "version": 3
   },
   "file_extension": ".py",
   "mimetype": "text/x-python",
   "name": "python",
   "nbconvert_exporter": "python",
   "pygments_lexer": "ipython3",
   "version": "3.10.13"
  }
 },
 "nbformat": 4,
 "nbformat_minor": 2
}
